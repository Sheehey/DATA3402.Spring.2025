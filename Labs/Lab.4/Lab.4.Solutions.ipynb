{
 "cells": [
  {
   "cell_type": "markdown",
   "metadata": {},
   "source": [
    "# Lab 4- Object Oriented Programming\n",
    "\n",
    "For all of the exercises below, make sure you provide tests of your solutions.\n"
   ]
  },
  {
   "cell_type": "markdown",
   "metadata": {},
   "source": [
    "1. Write a \"counter\" class that can be incremented up to a specified maximum value, will print an error if an attempt is made to increment beyond that value, and allows reseting the counter. "
   ]
  },
  {
   "cell_type": "code",
   "execution_count": 1,
   "metadata": {},
   "outputs": [],
   "source": [
    "class counter():\n",
    "    def __init__(self, max_val=0):\n",
    "        self.init_val = 0\n",
    "        self.max_val = max_val\n",
    "\n",
    "    def reset(self):\n",
    "        self.init_val = 0\n",
    "        \n",
    "    def increment(self):\n",
    "        if self.init_val < self.max_val:\n",
    "            self.init_val += 1\n",
    "            print(self.init_val)\n",
    "        else:\n",
    "            feedback = str(input(\"Would you like to reset counter? [Y/N]\"))\n",
    "            upper_feedback = feedback.upper()\n",
    "            if upper_feedback == \"Y\":\n",
    "                self.reset()\n",
    "                print(\"You have reset counter to\", self.init_val)\n",
    "            else:\n",
    "                raise Exception(\"Counter not reset. Please reset to increment.\")\n",
    "            "
   ]
  },
  {
   "cell_type": "code",
   "execution_count": 2,
   "metadata": {},
   "outputs": [
    {
     "name": "stdout",
     "output_type": "stream",
     "text": [
      "1\n",
      "2\n"
     ]
    },
    {
     "name": "stdin",
     "output_type": "stream",
     "text": [
      "Would you like to reset counter? [Y/N] y\n"
     ]
    },
    {
     "name": "stdout",
     "output_type": "stream",
     "text": [
      "You have reset counter to 0\n",
      "1\n",
      "Hello\n"
     ]
    }
   ],
   "source": [
    "a_counter = counter(2)\n",
    "a_counter.increment()\n",
    "a_counter.increment()\n",
    "a_counter.increment()\n",
    "a_counter.increment()\n",
    "\n",
    "print(\"Hello\")"
   ]
  },
  {
   "cell_type": "markdown",
   "metadata": {},
   "source": [
    "2. Copy and paste your solution to question 1 and modify it so that all the data held by the counter is private. Implement functions to check the value of the counter, check the maximum value, and check if the counter is at the maximum."
   ]
  },
  {
   "cell_type": "code",
   "execution_count": 3,
   "metadata": {},
   "outputs": [
    {
     "name": "stdout",
     "output_type": "stream",
     "text": [
      "0\n",
      "1\n",
      "Your counter is at  1\n",
      "2\n",
      "Your counter is at it's max val.\n"
     ]
    }
   ],
   "source": [
    "class counter:\n",
    "    def __init__(self, max_val=0):\n",
    "        self.__init_val = 0\n",
    "        self.__max_val = max_val\n",
    "\n",
    "    def init_val(self):\n",
    "        return self.__init_val\n",
    "\n",
    "    def max_val(self):\n",
    "        return self.__max_val\n",
    "\n",
    "    def set_max_val(self, max_val):\n",
    "        self.__max_val = max_val\n",
    "\n",
    "    def reset(self):\n",
    "        self.__init_val = 0\n",
    "        \n",
    "    def increment(self):\n",
    "        if self.__init_val < self.__max_val:\n",
    "            self.__init_val += 1\n",
    "            print(self.__init_val)\n",
    "        else:\n",
    "            feedback = str(input(\"Would you like to reset counter? [Y/N]\"))\n",
    "            upper_feedback = feedback.upper()\n",
    "            if upper_feedback == \"Y\":\n",
    "                self.reset()\n",
    "                print(\"You have reset counter to\", self.__init_val)\n",
    "            else:\n",
    "                raise Exception(\"Counter not reset. Please reset to increment.\")\n",
    "\n",
    "    def check_val(self):\n",
    "        print(\"Current count value is \", self.__init_val)\n",
    "\n",
    "    def check_max(self):\n",
    "        print (\"Max value is \", self.__max_val)\n",
    "\n",
    "    def check_counter(self):\n",
    "        if self.__init_val == self.__max_val:\n",
    "            print(\"Your counter is at it's max val.\")\n",
    "        else:\n",
    "            print(\"Your counter is at \", self.__init_val)\n",
    "            \n",
    "\n",
    "b_counter = counter(2)\n",
    "print(b_counter.init_val())\n",
    "b_counter.increment()\n",
    "b_counter.check_counter()\n",
    "b_counter.increment()\n",
    "b_counter.check_counter()"
   ]
  },
  {
   "cell_type": "markdown",
   "metadata": {},
   "source": [
    "3. Implement a class to represent a rectangle, holding the length, width, and $x$ and $y$ coordinates of a corner of the object. Implement functions that compute the area and perimeter of the rectangle. Make all data members private and privide accessors to retrieve values of data members. "
   ]
  },
  {
   "cell_type": "code",
   "execution_count": 4,
   "metadata": {},
   "outputs": [
    {
     "name": "stdout",
     "output_type": "stream",
     "text": [
      "8\n",
      "12\n"
     ]
    }
   ],
   "source": [
    "class rect:\n",
    "    def __init__(self, length, width, x=0, y=0):\n",
    "        self.__length = length\n",
    "        self.__width = width\n",
    "        self.__corner = (x,y)\n",
    "\n",
    "    '''def length(self):\n",
    "        return self.__length\n",
    "\n",
    "    def width(self):\n",
    "        return self.__width\n",
    "\n",
    "    def corner(self):\n",
    "        return self.__corner'''\n",
    "\n",
    "    def area(self):\n",
    "        return (self.__length * self.__width)\n",
    "\n",
    "    def perimeter(self):\n",
    "        return (self.__length * 2 + self.__width * 2)\n",
    "\n",
    "\n",
    "a_rect = rect(4, 2)\n",
    "print(a_rect.area())\n",
    "print(a_rect.perimeter())"
   ]
  },
  {
   "cell_type": "markdown",
   "metadata": {},
   "source": [
    "4. Implement a class to represent a circle, holding the radius and $x$ and $y$ coordinates of center of the object. Implement functions that compute the area and perimeter of the rectangle. Make all data members private and privide accessors to retrieve values of data members. "
   ]
  },
  {
   "cell_type": "code",
   "execution_count": 5,
   "metadata": {},
   "outputs": [
    {
     "name": "stdout",
     "output_type": "stream",
     "text": [
      "28.274333882308138\n",
      "18.84955592153876\n"
     ]
    }
   ],
   "source": [
    "import math as m\n",
    "\n",
    "class circ:\n",
    "    def __init__(self, radius, x=0, y=0):\n",
    "        self.__radius = radius\n",
    "        self.__center = (x, y)\n",
    "\n",
    "    def area(self):\n",
    "        return (m.pi * (self.__radius ** 2))\n",
    "\n",
    "    def perimeter(self):\n",
    "        return (2 * m.pi * self.__radius)\n",
    "\n",
    "\n",
    "a_circ = circ(3)\n",
    "print(a_circ.area())\n",
    "print(a_circ.perimeter())"
   ]
  },
  {
   "cell_type": "markdown",
   "metadata": {},
   "source": [
    "5. Implement a common base class for the classes implemented in 3 and 4 above which implements all common methods as not implemented functions (virtual). Re-implement your regtangle and circule classes to inherit from the base class and overload the functions accordingly. "
   ]
  },
  {
   "cell_type": "code",
   "execution_count": 6,
   "metadata": {},
   "outputs": [
    {
     "data": {
      "text/plain": [
       "'new_rect = Rect(4,2)\\nprint(new_rect.area())\\nprint(new_rect.perimeter())\\n\\nnew_circ = Circ(6)\\nprint(new_circ.area())\\nprint(new_circ.perimeter())'"
      ]
     },
     "execution_count": 6,
     "metadata": {},
     "output_type": "execute_result"
    }
   ],
   "source": [
    "class shape:\n",
    "    def __init__(self, x=0, y=0):\n",
    "        self._x = x\n",
    "        self._y = y\n",
    "\n",
    "    def points(self):\n",
    "        raise NotImplementedError\n",
    "        \n",
    "    def area(self):\n",
    "        raise NotImplementedError\n",
    "\n",
    "    def perimeter(self):\n",
    "        raise NotImplementedError\n",
    "\n",
    "    def isInside(self, x, y):\n",
    "        raise NotImplementedError\n",
    "\n",
    "    def overlaps(self, other):\n",
    "        raise NotImplementedError\n",
    "\n",
    "class Rect(shape):\n",
    "    def __init__(self, length, width, x=0, y=0):\n",
    "        super().__init__(x, y)\n",
    "        #self.__x = x\n",
    "        #self.__y = y\n",
    "        self._length = length\n",
    "        self._width = width\n",
    "        self._corner = (x, y)\n",
    "\n",
    "    def area(self):\n",
    "        return (self._length * self._width)\n",
    "\n",
    "    def perimeter(self):\n",
    "        return (self._length * 2 + self._width * 2)\n",
    "\n",
    "    def points(self, n=16):\n",
    "        points = []\n",
    "        p = self.perimeter()\n",
    "        sides = [self._length, self._width, self._length, self._width]\n",
    "        allLengths = [0]\n",
    "        # we are walking around our perimeter and need to calc which side were on\n",
    "        for s in sides:\n",
    "            allLengths.append(allLengths[-1] + s)\n",
    "\n",
    "        # now lets determine our dist and see if the points lies on our calced side\n",
    "        # once this is done place point in list\n",
    "        for i in range(n):\n",
    "            dist = (i / n) * p\n",
    "            if dist < allLengths[1]: # bottom\n",
    "                x = self._x + dist\n",
    "                y = self._y\n",
    "            elif dist < allLengths[2]: # right\n",
    "                x = self._x + self._length\n",
    "                y = self._y + (dist - allLengths[1])\n",
    "            elif dist < allLengths[3]: # top\n",
    "                x = self._x + self._length - (dist - allLengths[2])\n",
    "                y = self._y + self._width\n",
    "            else: # left\n",
    "                x = self._x\n",
    "                y = self._y + self._width - (dist - allLengths[3])\n",
    "            points.append((x, y))\n",
    "        return points\n",
    "\n",
    "    def isInside(self, x, y):\n",
    "            return (self._x <= x <= self._x + self._length) and (self._y <= y <= self._y + self._width)\n",
    "\n",
    "    def overlaps(self, other):\n",
    "        if isinstance(other, Rect):\n",
    "            return not (self._x + self._length < other._x or \n",
    "                        self._x > other._x + other._length or\n",
    "                        self._y + self._width < other._y or\n",
    "                        self._y > other._y + other._width)\n",
    "        else:\n",
    "            for (x, y) in self.points():\n",
    "                if other.isInside(x, y):\n",
    "                    return True\n",
    "            for (x, y) in other.points():\n",
    "                if self.isInside(x, y):\n",
    "                    return True\n",
    "            return False\n",
    "\n",
    "\n",
    "class Circ(shape):\n",
    "    def __init__(self, radius, x=0, y=0):\n",
    "        super().__init__(x, y)\n",
    "        #self.__x = x\n",
    "        #self.__y = y\n",
    "        self._radius = radius\n",
    "        self._center = (x, y)\n",
    "\n",
    "    def area(self):\n",
    "        return (m.pi * (self._radius ** 2))\n",
    "\n",
    "    def perimeter(self):\n",
    "        return (2 * m.pi * self._radius)\n",
    "\n",
    "    def points(self, n=16):\n",
    "        points = []\n",
    "        for i in range(n):\n",
    "            theta = 2 * m.pi * i / n\n",
    "            x = self._x + self._radius * m.cos(theta)\n",
    "            y = self._y + self._radius * m.sin(theta)\n",
    "            points.append((x,y))\n",
    "        return points\n",
    "\n",
    "    def isInside(self, x, y):\n",
    "        dx = x - self._x\n",
    "        dy = y - self._y\n",
    "        distSquared = dx**2 + dy**2\n",
    "        return distSquared <= self._radius**2 \n",
    "\n",
    "    def overlaps(self, other):\n",
    "        if isinstance(other, Circ):\n",
    "            dx = self._x - other._x\n",
    "            dy = self._y - other._y\n",
    "            distSquared = dx**2 + dy**2\n",
    "            radSum = self._radius + other._radius\n",
    "            return distSquared <= radSum**2\n",
    "        else:\n",
    "            for (x, y) in self.points():\n",
    "                if other.isInside(x, y):\n",
    "                    return True\n",
    "            for (x, y) in other.points():\n",
    "                if self.isInside(x, y):\n",
    "                    return True\n",
    "            return False\n",
    "\n",
    "\n",
    "'''shapes = [Rect(4,2), Circ(3)]\n",
    "\n",
    "for shape in shapes:\n",
    "    print(shape.area())\n",
    "    print(shape.perimeter())'''\n",
    "\n",
    "'''new_rect = Rect(4,2)\n",
    "print(new_rect.area())\n",
    "print(new_rect.perimeter())\n",
    "\n",
    "new_circ = Circ(6)\n",
    "print(new_circ.area())\n",
    "print(new_circ.perimeter())'''"
   ]
  },
  {
   "cell_type": "markdown",
   "metadata": {},
   "source": [
    "6. Implement a triangle class analogous to the rectangle and circle in question 5."
   ]
  },
  {
   "cell_type": "code",
   "execution_count": 7,
   "metadata": {},
   "outputs": [
    {
     "name": "stdout",
     "output_type": "stream",
     "text": [
      "201.06192982974676\n",
      "50.26548245743669\n",
      "6.0\n",
      "12\n"
     ]
    }
   ],
   "source": [
    "class Triangle(shape):\n",
    "    def __init__(self, side_1, side_2, side_3, x=0, y=0):\n",
    "        self._side_1 = side_1\n",
    "        self._side_2 = side_2\n",
    "        self._side_3 = side_3\n",
    "        self._corner = (x, y)\n",
    "        self._A = (x, y)\n",
    "        self._B = (x + side_1, y)\n",
    "        self._C = (x + side_2/2, y + side_2)\n",
    "\n",
    "    def area(self):\n",
    "        s = (self._side_1 + self._side_2 + self._side_3) / 2\n",
    "        return ((s * (s - self._side_1) * (s - self._side_2) * (s - self._side_3)) ** 0.5)\n",
    "        \n",
    "    def perimeter(self):\n",
    "        return (self._side_1 + self._side_2 + self._side_3)\n",
    "\n",
    "    def points(self, n=16):\n",
    "        points = []\n",
    "        A = (self._corner[0], self._corner[1])\n",
    "        B = (self._corner[0], self._side_1, self._corner[1])\n",
    "        C = (self._corner[0] + (self._side_2 / 2), self._corner[1] + (self._side_2))\n",
    "\n",
    "        p = self.perimeter()\n",
    "        sideLengths = [\n",
    "            ((A, B), self._side_1),\n",
    "            ((B, C), self._side_2),\n",
    "            ((C, A), self._side_3)\n",
    "        ]\n",
    "\n",
    "        allLength = [0]\n",
    "        for (_, length) in sideLengths:\n",
    "            allLength.append(allLength[-1] + length)\n",
    "\n",
    "        for i in range(n):\n",
    "            dist = (i / n) * p\n",
    "            if dist < allLength[1]:\n",
    "                (p1, p2) = sideLengths[0][0]\n",
    "                sideDist = (dist - allLength[0]) / sideLengths[0][1]\n",
    "            elif dist < allLength[2]:\n",
    "                (p1, p2) = sideLengths[1][0]\n",
    "                sideDist = (dist - allLength[1]) / sideLengths[1][1]\n",
    "            else:\n",
    "                (p1, p2) = sideLengths[2][0]\n",
    "                sideDist = (dist - allLength[2]) / sideLengths[2][1]\n",
    "\n",
    "            x = p1[0] + (p2[0] - p1[0]) * sideDist\n",
    "            y = p1[1] + (p2[1] - p1[1]) * sideDist\n",
    "            points.append((x, y))\n",
    "        return points\n",
    "\n",
    "    def isInside(self, x, y):\n",
    "        # area comparison\n",
    "        def triArea(p1, p2, p3):\n",
    "            return abs((p1[0]*(p2[1]-p3[1]) + p2[0]*(p3[1]-p1[1]) + p3[0]*(p1[1]-p2[1])) / 2)\n",
    "\n",
    "        A = self._A\n",
    "        B = self._B\n",
    "        C = self._C\n",
    "        fullArea = triArea(A, B, C)\n",
    "        a1 = triArea((x, y), B, C)\n",
    "        a2 = triArea(A, (x, y), C)\n",
    "        a3 = triArea(A, B, (x, y))\n",
    "\n",
    "        return abs(fullArea - (a1 + a2 + a3)) < 1e-6\n",
    "\n",
    "    def overlaps(self, other):\n",
    "        for (x, y) in self.points():\n",
    "            if other.isInside(x, y):\n",
    "                return True\n",
    "        for (x, y) in other.points():\n",
    "            if self.isInside(x, y):\n",
    "                return True\n",
    "        return False\n",
    "\n",
    "\n",
    "\n",
    "a_circ_again = Circ(8, 0, 3)\n",
    "print(a_circ_again.area())\n",
    "print(a_circ_again.perimeter())\n",
    "\n",
    "a_tri_again = Triangle(3,4,5)\n",
    "\n",
    "print(a_tri_again.area())\n",
    "print(a_tri_again.perimeter())\n"
   ]
  },
  {
   "cell_type": "markdown",
   "metadata": {},
   "source": [
    "7. Add a function to the object classes, including the base, that returns a list of up to 16 pairs of  $x$ and $y$ points on the parameter of the object. "
   ]
  },
  {
   "cell_type": "code",
   "execution_count": 8,
   "metadata": {},
   "outputs": [],
   "source": [
    "# completed in classes above"
   ]
  },
  {
   "cell_type": "code",
   "execution_count": 9,
   "metadata": {},
   "outputs": [
    {
     "name": "stdout",
     "output_type": "stream",
     "text": [
      "[(8.0, 3.0), (7.391036260090294, 6.061467458920719), (5.656854249492381, 8.65685424949238), (3.0614674589207187, 10.391036260090294), (4.898587196589413e-16, 11.0), (-3.061467458920718, 10.391036260090294), (-5.65685424949238, 8.65685424949238), (-7.391036260090294, 6.061467458920719), (-8.0, 3.000000000000001), (-7.391036260090295, -0.061467458920717366), (-5.6568542494923815, -2.6568542494923797), (-3.0614674589207227, -4.391036260090292), (-1.4695761589768238e-15, -5.0), (3.06146745892072, -4.391036260090293), (5.656854249492379, -2.6568542494923815), (7.391036260090292, -0.06146745892072314)]\n"
     ]
    }
   ],
   "source": [
    "print(a_circ_again.points())"
   ]
  },
  {
   "cell_type": "markdown",
   "metadata": {},
   "source": [
    "8. Add a function to the object classes, including the base, that tests if a given set of $x$ and $y$ coordinates are inside of the object. You'll have to think through how to determine if a set of coordinates are inside an object for each object type."
   ]
  },
  {
   "cell_type": "code",
   "execution_count": 10,
   "metadata": {},
   "outputs": [
    {
     "name": "stdout",
     "output_type": "stream",
     "text": [
      "True\n",
      "False\n",
      "True\n",
      "True\n",
      "False\n",
      "False\n"
     ]
    }
   ],
   "source": [
    "testRect = Rect(10, 5, x=0, y=0)\n",
    "print(testRect.isInside(2, 3))\n",
    "print(testRect.isInside(12, 3))\n",
    "\n",
    "testCirc = Circ(5, x=2, y=2)\n",
    "print(testCirc.isInside(3, 4))\n",
    "print(testCirc.isInside(6, 0))\n",
    "\n",
    "testTri = Triangle(3, 4, 5, x=5, y=5)\n",
    "print(testTri.isInside(1, 1))\n",
    "print(testTri.isInside(10, 10))"
   ]
  },
  {
   "cell_type": "markdown",
   "metadata": {},
   "source": [
    "9. Add a function in the base class of the object classes that returns true/false testing that the object overlaps with another object."
   ]
  },
  {
   "cell_type": "code",
   "execution_count": 11,
   "metadata": {},
   "outputs": [
    {
     "name": "stdout",
     "output_type": "stream",
     "text": [
      "True\n",
      "True\n",
      "True\n",
      "True\n",
      "True\n"
     ]
    }
   ],
   "source": [
    "testRect2 = Rect(3, 3, x=2, y=2)\n",
    "testCirc2 = Circ(5, x=6, y=0)\n",
    "testTri2 = Triangle(3, 4, 5, x=5, y=5)\n",
    "print(testRect.overlaps(testRect2))\n",
    "print(testCirc.overlaps(testCirc2))\n",
    "print(testTri.overlaps(testTri2))\n",
    "print(testRect.overlaps(testTri))\n",
    "print(testCirc.overlaps(testRect2))"
   ]
  },
  {
   "cell_type": "markdown",
   "metadata": {},
   "source": [
    "10. Copy the `Canvas` class from lecture to in a python file creating a `paint` module. Copy your classes from above into the module and implement paint functions. Implement a `CompoundShape` class. Create a simple drawing demonstrating that all of your classes are working."
   ]
  },
  {
   "cell_type": "code",
   "execution_count": 12,
   "metadata": {},
   "outputs": [
    {
     "name": "stdout",
     "output_type": "stream",
     "text": [
      "                                                  \n",
      "                                                  \n",
      "                                                  \n",
      "                                                  \n",
      "                                                  \n",
      "     * * *                                        \n",
      "          *                                       \n",
      "     *                                            \n",
      "          *                                       \n",
      "     *    *                                       \n",
      "                                                  \n",
      "     *    *                                       \n",
      "     *                                            \n",
      "          *                                       \n",
      "     *                                            \n",
      "      * * *                                       \n",
      "                                                  \n",
      "                                                  \n",
      "                                                  \n",
      "                                                  \n",
      "                                                  \n",
      "                                                  \n",
      "                                                  \n",
      "                              *                   \n",
      "                           *     *                \n",
      "                         *         *              \n",
      "                                                  \n",
      "                        *           *             \n",
      "                                                  \n",
      "                                                  \n",
      "                       *             *            \n",
      "                                                  \n",
      "                                                  \n",
      "                        *           *             \n",
      "                                                  \n",
      "                         *         *              \n",
      "                           *     *                \n",
      "                              *                   \n",
      "                                                  \n",
      "                                                  \n",
      "     *******                                      \n",
      "        * * **                                    \n",
      "            * **                                  \n",
      "                                                  \n",
      "                                                  \n",
      "                                                  \n",
      "                                                  \n",
      "                                                  \n",
      "                                                  \n",
      "                                                  \n"
     ]
    }
   ],
   "source": [
    "import paint as p\n",
    "\n",
    "class CompoundShape(shape):\n",
    "    def __init__(self):\n",
    "        self.shapes = []\n",
    "\n",
    "    def addShape(self, shape):\n",
    "        self.shapes.append(shape)\n",
    "\n",
    "    def paint(self, canvas, **kargs):\n",
    "        for shape in self.shapes:\n",
    "            shape.paint(canvas, **kargs)\n",
    "\n",
    "            \n",
    "c = p.Canvas(50, 50)\n",
    "r = p.Rect(10, 5, 5, 5)\n",
    "circ = p.Circ(7, 30, 30)\n",
    "tri = p.Triangle(5, 5, 5, 40, 10)\n",
    "\n",
    "drawing = CompoundShape()\n",
    "drawing.addShape(r)\n",
    "drawing.addShape(circ)\n",
    "drawing.addShape(tri)\n",
    "\n",
    "drawing.paint(c, char='*')\n",
    "c.display()"
   ]
  },
  {
   "cell_type": "code",
   "execution_count": 13,
   "metadata": {},
   "outputs": [],
   "source": [
    "# so cool ^ "
   ]
  },
  {
   "cell_type": "markdown",
   "metadata": {},
   "source": [
    "11. Create a `RasterDrawing` class. Demonstrate that you can create a drawing made of several shapes, paint the drawing, modify the drawing, and paint it again. "
   ]
  },
  {
   "cell_type": "code",
   "execution_count": 14,
   "metadata": {},
   "outputs": [
    {
     "name": "stdout",
     "output_type": "stream",
     "text": [
      "First Draw:\n",
      "                                                  \n",
      "                                                  \n",
      "                                                  \n",
      "                                                  \n",
      "                                                  \n",
      "     * * *                                        \n",
      "          *                                       \n",
      "     *                                            \n",
      "          *                                       \n",
      "     *    *                                       \n",
      "                                                  \n",
      "     *    *                                       \n",
      "     *                                            \n",
      "          *                                       \n",
      "     *                                            \n",
      "      * * *                                       \n",
      "                                                  \n",
      "                                                  \n",
      "                                                  \n",
      "                                                  \n",
      "                                                  \n",
      "                                                  \n",
      "                                                  \n",
      "                              *                   \n",
      "                           *     *                \n",
      "                         *         *              \n",
      "                                                  \n",
      "                        *           *             \n",
      "                                                  \n",
      "                                                  \n",
      "                       *             *            \n",
      "                                                  \n",
      "                                                  \n",
      "                        *           *             \n",
      "                                                  \n",
      "                         *         *              \n",
      "                           *     *                \n",
      "                              *                   \n",
      "                                                  \n",
      "                                                  \n",
      "     *******                                      \n",
      "        * * **                                    \n",
      "            * **                                  \n",
      "                                                  \n",
      "                                                  \n",
      "                                                  \n",
      "                                                  \n",
      "                                                  \n",
      "                                                  \n",
      "                                                  \n",
      "\n",
      "Lets remove our circle.\n",
      "                                                  \n",
      "                                                  \n",
      "                                                  \n",
      "                                                  \n",
      "                                                  \n",
      "     * * *                                        \n",
      "          *                                       \n",
      "     *                                            \n",
      "          *                                       \n",
      "     *    *                                       \n",
      "                                                  \n",
      "     *    *                                       \n",
      "     *                                            \n",
      "          *                                       \n",
      "     *                                            \n",
      "      * * *                                       \n",
      "                                                  \n",
      "                                                  \n",
      "                                                  \n",
      "                                                  \n",
      "                                                  \n",
      "                                                  \n",
      "                                                  \n",
      "                                                  \n",
      "                                                  \n",
      "                                                  \n",
      "                                                  \n",
      "                                                  \n",
      "                                                  \n",
      "                                                  \n",
      "                                                  \n",
      "                                                  \n",
      "                                                  \n",
      "                                                  \n",
      "                                                  \n",
      "                                                  \n",
      "                                                  \n",
      "                                                  \n",
      "                                                  \n",
      "                                                  \n",
      "     *******                                      \n",
      "        * * **                                    \n",
      "            * **                                  \n",
      "                                                  \n",
      "                                                  \n",
      "                                                  \n",
      "                                                  \n",
      "                                                  \n",
      "                                                  \n",
      "                                                  \n",
      "\n",
      "Last lets add a circle that overlaps our rectangle.\n",
      "                                                  \n",
      "                                                  \n",
      "                                                  \n",
      "                                                  \n",
      "                                                  \n",
      "     ******                                       \n",
      "    *     * *                                     \n",
      "     *                                            \n",
      "   *      *  *                                    \n",
      "     *    *                                       \n",
      "   *         *                                    \n",
      "     *    *                                       \n",
      "   * *       *                                    \n",
      "          *                                       \n",
      "    **      *                                     \n",
      "      * * *                                       \n",
      "                                                  \n",
      "                                                  \n",
      "                                                  \n",
      "                                                  \n",
      "                                                  \n",
      "                                                  \n",
      "                                                  \n",
      "                                                  \n",
      "                                                  \n",
      "                                                  \n",
      "                                                  \n",
      "                                                  \n",
      "                                                  \n",
      "                                                  \n",
      "                                                  \n",
      "                                                  \n",
      "                                                  \n",
      "                                                  \n",
      "                                                  \n",
      "                                                  \n",
      "                                                  \n",
      "                                                  \n",
      "                                                  \n",
      "                                                  \n",
      "     *******                                      \n",
      "        * * **                                    \n",
      "            * **                                  \n",
      "                                                  \n",
      "                                                  \n",
      "                                                  \n",
      "                                                  \n",
      "                                                  \n",
      "                                                  \n",
      "                                                  \n"
     ]
    }
   ],
   "source": [
    "class RasterDrawing:\n",
    "    def __init__(self):\n",
    "        self.shapes = dict()\n",
    "        self.shapeNames = list()\n",
    "\n",
    "    def assignName(self):\n",
    "        return f\"shape{len(self.shapeNames)}\"\n",
    "\n",
    "    def addShape(self, shape, name=None):\n",
    "        if name is None:\n",
    "            name = self.assignName()\n",
    "        self.shapes[name] = shape\n",
    "        self.shapeNames.append(name)\n",
    "\n",
    "    def removeShape(self, name):\n",
    "        if name in self.shapes:\n",
    "            del self.shapes[name]\n",
    "            self.shapeNames.remove(name)\n",
    "\n",
    "    def paint(self, canvas, **kargs):\n",
    "        for name in self.shapeNames:\n",
    "            shape = self.shapes[name]\n",
    "            shape.paint(canvas, **kargs)\n",
    "\n",
    "    def clear(self):\n",
    "        self.shapes = dict()\n",
    "        self.shapeNames = list()\n",
    "\n",
    "    def save(self, fileName):\n",
    "        with open(fileName, \"w\") as f:\n",
    "            for name in self.shapeNames:\n",
    "                shape = self.shapes[name]\n",
    "                f.write(name + \" = \" + repr(shape) + \"\\n\")\n",
    "\n",
    "\n",
    "# test\n",
    "c = p.Canvas(50, 50)\n",
    "r = p.Rect(10, 5, 5, 5)\n",
    "circ = p.Circ(7, 30, 30)\n",
    "tri = p.Triangle(5, 5, 5, 40, 10)\n",
    "\n",
    "drawing = RasterDrawing()\n",
    "drawing.addShape(r, name='Rectangle')\n",
    "drawing.addShape(circ, name='Circle')\n",
    "drawing.addShape(tri, name='Triangle')\n",
    "\n",
    "print('First Draw:')\n",
    "c.clear_canvas()\n",
    "drawing.paint(c, char='*')\n",
    "c.display()\n",
    "\n",
    "print(\"\\nLets remove our circle.\")\n",
    "drawing.removeShape('Circle')\n",
    "c.clear_canvas()\n",
    "drawing.paint(c, char='*')\n",
    "c.display()\n",
    "\n",
    "print('\\nLast lets add a circle that overlaps our rectangle.')\n",
    "overlapC = p.Circ(5, 10, 8)\n",
    "\n",
    "drawing.addShape(overlapC, name='OverlapCircle')\n",
    "c.clear_canvas()\n",
    "drawing.paint(c, char='*')\n",
    "c.display()\n",
    "\n",
    "# awesome"
   ]
  },
  {
   "cell_type": "markdown",
   "metadata": {},
   "source": [
    "12. Implement the ability to load/save raster drawings and demonstate that your method works. One way to implement this ability:\n",
    "\n",
    "   * Overload `__repr__` functions of all objects to return strings of the python code that would construct the object.\n",
    "   \n",
    "   * In the save method of raster drawing class, store the representations into the file.\n",
    "   * Write a loader function that reads the file and uses `eval` to instantiate the object.\n",
    "\n",
    "For example:"
   ]
  },
  {
   "cell_type": "code",
   "execution_count": 15,
   "metadata": {},
   "outputs": [],
   "source": [
    "'''class foo:\n",
    "    def __init__(self,a,b=None):\n",
    "        self.a=a\n",
    "        self.b=b\n",
    "        \n",
    "    def __repr__(self):\n",
    "        return \"foo(\"+repr(self.a)+\",\"+repr(self.b)+\")\"\n",
    "    \n",
    "    def save(self,filename):\n",
    "        f=open(filename,\"w\")\n",
    "        f.write(self.__repr__())\n",
    "        f.close()\n",
    "        \n",
    "   \n",
    "def foo_loader(filename):\n",
    "    f=open(filename,\"r\")\n",
    "    tmp=eval(f.read())\n",
    "    f.close()\n",
    "    return tmp'''\n",
    "\n",
    "# code implemented in paint.py classes and RasterDrawing Class.\n",
    "\n",
    "def rasterLoad(fileName):\n",
    "    drawing = RasterDrawing()\n",
    "    with open(fileName, \"r\") as f:\n",
    "        lines = f.readlines()\n",
    "        for line in lines:\n",
    "            exec(line)\n",
    "            name = line.split('=')[0].strip()\n",
    "            obj = eval(name)\n",
    "            drawing.addShape(obj, name=name)\n",
    "    return drawing\n"
   ]
  },
  {
   "cell_type": "code",
   "execution_count": 16,
   "metadata": {},
   "outputs": [
    {
     "data": {
      "text/plain": [
       "'print(repr(foo(1,\"hello\")))'"
      ]
     },
     "execution_count": 16,
     "metadata": {},
     "output_type": "execute_result"
    }
   ],
   "source": [
    "# Test\n",
    "'print(repr(foo(1,\"hello\")))'"
   ]
  },
  {
   "cell_type": "code",
   "execution_count": 17,
   "metadata": {},
   "outputs": [
    {
     "data": {
      "text/plain": [
       "'ff=foo(1,\"hello\")\\nff.save(\"Test.foo\")'"
      ]
     },
     "execution_count": 17,
     "metadata": {},
     "output_type": "execute_result"
    }
   ],
   "source": [
    "# Create an object and save it\n",
    "'''ff=foo(1,\"hello\")\n",
    "ff.save(\"Test.foo\")'''"
   ]
  },
  {
   "cell_type": "code",
   "execution_count": 18,
   "metadata": {},
   "outputs": [
    {
     "ename": "SyntaxError",
     "evalue": "incomplete input (736420876.py, line 2)",
     "output_type": "error",
     "traceback": [
      "\u001b[0;36m  Cell \u001b[0;32mIn[18], line 2\u001b[0;36m\u001b[0m\n\u001b[0;31m    '''!cat Test.foo\u001b[0m\n\u001b[0m    ^\u001b[0m\n\u001b[0;31mSyntaxError\u001b[0m\u001b[0;31m:\u001b[0m incomplete input\n"
     ]
    }
   ],
   "source": [
    "# Check contents of the saved file\n",
    "'''!cat Test.foo"
   ]
  },
  {
   "cell_type": "code",
   "execution_count": 19,
   "metadata": {},
   "outputs": [
    {
     "ename": "SyntaxError",
     "evalue": "incomplete input (193534178.py, line 2)",
     "output_type": "error",
     "traceback": [
      "\u001b[0;36m  Cell \u001b[0;32mIn[19], line 2\u001b[0;36m\u001b[0m\n\u001b[0;31m    '''ff_reloaded=foo_loader(\"Test.foo\")\u001b[0m\n\u001b[0m    ^\u001b[0m\n\u001b[0;31mSyntaxError\u001b[0m\u001b[0;31m:\u001b[0m incomplete input\n"
     ]
    }
   ],
   "source": [
    "# Load the object\n",
    "'''ff_reloaded=foo_loader(\"Test.foo\")\n",
    "ff_reloaded"
   ]
  },
  {
   "cell_type": "code",
   "execution_count": 20,
   "metadata": {},
   "outputs": [
    {
     "name": "stdout",
     "output_type": "stream",
     "text": [
      "Drawing loaded from file:\n",
      "                                                  \n",
      "                                                  \n",
      "                                                  \n",
      "                                                  \n",
      "                                                  \n",
      "     @ @ @                                        \n",
      "          @                                       \n",
      "     @                                            \n",
      "          @                                       \n",
      "     @    @                                       \n",
      "                                                  \n",
      "     @    @                                       \n",
      "     @                                            \n",
      "          @                                       \n",
      "     @                                            \n",
      "      @ @ @                                       \n",
      "                                                  \n",
      "                                                  \n",
      "                                                  \n",
      "                                                  \n",
      "                                                  \n",
      "                                                  \n",
      "                                                  \n",
      "                              @                   \n",
      "                           @     @                \n",
      "                         @         @              \n",
      "                                                  \n",
      "                        @           @             \n",
      "                                                  \n",
      "                                                  \n",
      "                       @             @            \n",
      "                                                  \n",
      "                                                  \n",
      "                        @           @             \n",
      "                                                  \n",
      "                         @         @              \n",
      "                           @     @                \n",
      "                              @                   \n",
      "                                                  \n",
      "                                                  \n",
      "     @@@@@@@                                      \n",
      "        @ @ @@                                    \n",
      "            @ @@                                  \n",
      "                                                  \n",
      "                                                  \n",
      "                                                  \n",
      "                                                  \n",
      "                                                  \n",
      "                                                  \n",
      "                                                  \n"
     ]
    }
   ],
   "source": [
    "import paint as p\n",
    "\n",
    "# Create a canvas and a RasterDrawing\n",
    "c = p.Canvas(50, 50)\n",
    "drawing = p.RasterDrawing()\n",
    "\n",
    "# Create shapes\n",
    "r = p.Rect(10, 5, 5, 5)\n",
    "circ = p.Circ(7, 30, 30)\n",
    "tri = p.Triangle(5, 5, 5, 40, 10)\n",
    "\n",
    "# Add shapes to the drawing\n",
    "drawing.addShape(r, name='Rectangle')\n",
    "drawing.addShape(circ, name='Circle')\n",
    "drawing.addShape(tri, name='Triangle')\n",
    "\n",
    "# Save the drawing\n",
    "drawing.save('drawing.txt')\n",
    "\n",
    "# Load the drawing back\n",
    "new_drawing = p.rasterLoad('drawing.txt')\n",
    "\n",
    "# Paint loaded drawing\n",
    "print('Drawing loaded from file:')\n",
    "c.clear_canvas()\n",
    "new_drawing.paint(c, char='@')\n",
    "c.display()\n",
    "\n",
    "\n",
    "\n"
   ]
  },
  {
   "cell_type": "code",
   "execution_count": 22,
   "metadata": {},
   "outputs": [],
   "source": [
    "# ^ super cool"
   ]
  },
  {
   "cell_type": "code",
   "execution_count": null,
   "metadata": {},
   "outputs": [],
   "source": []
  },
  {
   "cell_type": "code",
   "execution_count": null,
   "metadata": {},
   "outputs": [],
   "source": []
  },
  {
   "cell_type": "code",
   "execution_count": null,
   "metadata": {},
   "outputs": [],
   "source": []
  },
  {
   "cell_type": "code",
   "execution_count": null,
   "metadata": {},
   "outputs": [],
   "source": []
  }
 ],
 "metadata": {
  "kernelspec": {
   "display_name": "Python 3 (ipykernel)",
   "language": "python",
   "name": "python3"
  },
  "language_info": {
   "codemirror_mode": {
    "name": "ipython",
    "version": 3
   },
   "file_extension": ".py",
   "mimetype": "text/x-python",
   "name": "python",
   "nbconvert_exporter": "python",
   "pygments_lexer": "ipython3",
   "version": "3.10.12"
  }
 },
 "nbformat": 4,
 "nbformat_minor": 4
}
