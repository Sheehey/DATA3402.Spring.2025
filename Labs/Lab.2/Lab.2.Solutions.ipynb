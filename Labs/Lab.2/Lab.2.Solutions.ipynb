{
 "cells": [
  {
   "cell_type": "markdown",
   "metadata": {},
   "source": [
    "## Lab 2- Tic Tac Toe\n",
    "\n",
    "In this lab your will build a n x n Tic Tac Toe game. As you do the exercises, make sure your solutions work for any size Tic Tac Toe game. "
   ]
  },
  {
   "cell_type": "markdown",
   "metadata": {},
   "source": [
    "*Exercise 1:* Write a function that creates an n by n matrix (of list of lists) which will represent the state of a Tie Tac Toe game. Let 0, 1, and 2 represent empty, \"X\", and \"O\", respectively.\n"
   ]
  },
  {
   "cell_type": "code",
   "execution_count": 2,
   "metadata": {},
   "outputs": [],
   "source": [
    "# Write you solution here\n",
    "# Here we set our player values\n",
    "player_1 = 1\n",
    "player_2 = 2\n",
    "empty = 0\n",
    "\n",
    "# Here we set our game board size (n for our matrix). \n",
    "size = 3\n",
    "\n",
    "\n",
    "# How to create our matrix? A matrix of size n is always a square matrix, use simple solution \n",
    "# from lecture 3 to create our matrix (remember a list is mutable and has pass by reference behavior). \n",
    "def create_board(size):\n",
    "    board = list()\n",
    "    for i in range(size):\n",
    "        board.append([empty] * size)\n",
    "    return board\n",
    "\n",
    "# Does this need to be a funtion? Lets make it one that returns our board data for the next draw funcition.\n"
   ]
  },
  {
   "cell_type": "code",
   "execution_count": 3,
   "metadata": {},
   "outputs": [
    {
     "name": "stdout",
     "output_type": "stream",
     "text": [
      "[[0, 0, 0], [0, 0, 0], [0, 0, 0]]\n",
      "[[0, 1, 0], [0, 0, 0], [0, 0, 0]]\n"
     ]
    }
   ],
   "source": [
    "# Test your solution here\n",
    "\n",
    "# Here we will test with the same board case as lecture 3\n",
    "board = create_board(size);\n",
    "print(board);\n",
    "\n",
    "board[0][1] = 1\n",
    "print(board);\n",
    "# We can see that our simple solution works and we didn't reference the same list three times. "
   ]
  },
  {
   "cell_type": "markdown",
   "metadata": {},
   "source": [
    "*Exercise 2:* Write a function that takes 2 integers `n` and `m` as input and draws a `n` by `m` game board. For example the following is a 3x3 board:\n",
    "```\n",
    "   --- --- --- \n",
    "  |   |   |   | \n",
    "   --- --- ---  \n",
    "  |   |   |   | \n",
    "   --- --- ---  \n",
    "  |   |   |   | \n",
    "   --- --- --- \n",
    "   ```"
   ]
  },
  {
   "cell_type": "code",
   "execution_count": 4,
   "metadata": {},
   "outputs": [],
   "source": [
    "# Write you solution here\n",
    "# Are we allowed to have anything besides a square matrix? How about a 4x3 matrix?\n",
    "# A good way to go about this might be to modify our mem_board to return these n and m vals.\n",
    "\n",
    "def draw_board(n, m):\n",
    "    print((\" ---\") * n);\n",
    "    for i in range(n):\n",
    "        print(((\"|   \") * (n + 1)));\n",
    "        for j in range(m):\n",
    "            print((\" ---\") * (m));\n",
    "            break;\n",
    "    return draw_board\n",
    "    "
   ]
  },
  {
   "cell_type": "code",
   "execution_count": 5,
   "metadata": {},
   "outputs": [
    {
     "name": "stdout",
     "output_type": "stream",
     "text": [
      " --- --- --- ---\n",
      "|   |   |   |   |   \n",
      " --- --- --- ---\n",
      "|   |   |   |   |   \n",
      " --- --- --- ---\n",
      "|   |   |   |   |   \n",
      " --- --- --- ---\n",
      "|   |   |   |   |   \n",
      " --- --- --- ---\n"
     ]
    }
   ],
   "source": [
    "# Test your solution here\n",
    "draw_board(4, 4);"
   ]
  },
  {
   "cell_type": "markdown",
   "metadata": {},
   "source": [
    "*Exercise 3:* Modify exercise 2, so that it takes a matrix of the form from exercise 1 and draws a tic-tac-tie board with \"X\"s and \"O\"s.  "
   ]
  },
  {
   "cell_type": "code",
   "execution_count": 6,
   "metadata": {},
   "outputs": [],
   "source": [
    "# Write you solution here\n",
    "\n",
    "player_1_piece = \"X\"\n",
    "player_2_piece = \"O\"\n",
    "empty_space = \" \"\n",
    "\n",
    "space_character = { player_1: player_1_piece,\n",
    "                    player_2: player_2_piece,\n",
    "                    empty: empty_space }\n",
    "\n",
    "def draw_state(matrix):\n",
    "    for i in range(size):\n",
    "        print(\"\\n\", ((\"--- \") * (size)));\n",
    "        print(\"|\", end= \"\");\n",
    "        for j in range(size):\n",
    "            print(\"\", space_character[matrix[i][j]], end= \" |\");\n",
    "    print(\"\\n\", ((\"--- \") * (size)));\n",
    "    return draw_state"
   ]
  },
  {
   "cell_type": "code",
   "execution_count": 7,
   "metadata": {},
   "outputs": [
    {
     "name": "stdout",
     "output_type": "stream",
     "text": [
      "\n",
      " --- --- --- \n",
      "|   |   |   |\n",
      " --- --- --- \n",
      "|   | X |   |\n",
      " --- --- --- \n",
      "|   |   |   |\n",
      " --- --- --- \n"
     ]
    },
    {
     "data": {
      "text/plain": [
       "<function __main__.draw_state(matrix)>"
      ]
     },
     "execution_count": 7,
     "metadata": {},
     "output_type": "execute_result"
    }
   ],
   "source": [
    "# Test your solution here\n",
    "\n",
    "board = create_board(size)\n",
    "board[1][1] = 1\n",
    "\n",
    "draw_state(board)"
   ]
  },
  {
   "cell_type": "markdown",
   "metadata": {},
   "source": [
    "*Exercise 4:* Write a function that takes a `n` by `n` matrix representing a tic-tac-toe game, and returns -1, 0, 1, or 2 indicating the game is incomplete, the game is a draw, player 1 has won, or player 2 has one, respectively. Here are some example inputs you can use to test your code:"
   ]
  },
  {
   "cell_type": "code",
   "execution_count": 47,
   "metadata": {},
   "outputs": [],
   "source": [
    "# Write you solution here\n",
    "\n",
    "'''\n",
    "# what if i made a counter for each row?\n",
    "\n",
    "def count_pieces(matrix, player):\n",
    "    count = 0\n",
    "    for i in range(size):\n",
    "        for j in range(size):\n",
    "            if board[i][j] == player:\n",
    "                count += 1\n",
    "                if count == size:\n",
    "                    break;\n",
    "                else:\n",
    "                    count = 0\n",
    "\n",
    "    return count\n",
    "\n",
    "def check_row(matrix):\n",
    "    for i in range(size):\n",
    "        for j in range(size):\n",
    "            if all(j == matrix[i][j] for j in matrix[i]):\n",
    "                return True;\n",
    "            else:\n",
    "                return False;\n",
    "\n",
    "def check_row(matrix):\n",
    "    for row in matrix:\n",
    "        if len(set(row)) == 1:\n",
    "            return True\n",
    "        else:\n",
    "            continue;\n",
    "\n",
    "    return False\n",
    "\n",
    "\n",
    "\n",
    "def transpose(matrix):\n",
    "    t_matrix = zip(*matrix)\n",
    "    for row in t_matrix:\n",
    "        print(row)\n",
    "\n",
    "def game_state(matrix):\n",
    "    # search through row, transpose matrix, search through converted row again?\n",
    "    # then solve diagonals\n",
    "    # make a counter, if counter == size then we would have a winning row\n",
    "    count = 0\n",
    "    for i in range(size):\n",
    "        for j in range(size):\n",
    "            if ((board[i][j] != 0) and (board[i][j] == board[i][j + 1])):\n",
    "                count += 1\n",
    "                if count == size:\n",
    "                    break;\n",
    "                else:\n",
    "                    count = 0\n",
    "\n",
    "    return count \n",
    "\n",
    "    # scratch above\n",
    "    # need counter that takes in player and checks if row count = size or reset\n",
    "\n",
    "def game_state(matrix):\n",
    "    player_1_count = 0\n",
    "    player_2_count = 0\n",
    "    player_1_count = count_pieces(matrix, player_1)\n",
    "    player_2_count = count_pieces(matrix, player_2)\n",
    "\n",
    "    if player_1_count == size:\n",
    "        return 12\n",
    "    if player_2_count == size:\n",
    "        return 21\n",
    "\n",
    "    # next i need to transpose matrix\n",
    "    t = transpose(matrix)\n",
    "    # check for new rows\n",
    "    player_1_count = count_pieces(t, player_1)\n",
    "    player_2_count = count_pieces(t, player_2)\n",
    "\n",
    "    if player_1_count == size:\n",
    "        return 1\n",
    "    if player_2_count == size:\n",
    "        return 2\n",
    "\n",
    "    # need to but matrix back\n",
    "    \n",
    "\n",
    "    # need to figure our diagonals\n",
    "'''\n",
    "\n",
    "def check_rows(matrix):\n",
    "    for row in matrix:\n",
    "        if ((len(set(row)) == 1) and (row[0] != 0)):\n",
    "            return row[0]\n",
    "        else:\n",
    "            continue;\n",
    "\n",
    "    return False\n",
    "\n",
    "\n",
    "def transpose(matrix):\n",
    "    t = list()\n",
    "    t_matrix = zip(*matrix)\n",
    "    for row in t_matrix:\n",
    "        t.append(list(row))\n",
    "\n",
    "    return t"
   ]
  },
  {
   "cell_type": "code",
   "execution_count": 1,
   "metadata": {},
   "outputs": [
    {
     "ename": "NameError",
     "evalue": "name 'board' is not defined",
     "output_type": "error",
     "traceback": [
      "\u001b[0;31m---------------------------------------------------------------------------\u001b[0m",
      "\u001b[0;31mNameError\u001b[0m                                 Traceback (most recent call last)",
      "Cell \u001b[0;32mIn[1], line 8\u001b[0m\n\u001b[1;32m      1\u001b[0m \u001b[38;5;66;03m# Test your solution here\u001b[39;00m\n\u001b[1;32m      3\u001b[0m \u001b[38;5;124;03m'''player_1_count = count_pieces(board, player_2)\u001b[39;00m\n\u001b[1;32m      4\u001b[0m \u001b[38;5;124;03mprint(player_1_count)\u001b[39;00m\n\u001b[1;32m      5\u001b[0m \u001b[38;5;124;03mprint(board)\u001b[39;00m\n\u001b[1;32m      6\u001b[0m \u001b[38;5;124;03mtranspose(board) '''\u001b[39;00m\n\u001b[0;32m----> 8\u001b[0m \u001b[43mboard\u001b[49m[\u001b[38;5;241m2\u001b[39m][\u001b[38;5;241m0\u001b[39m] \u001b[38;5;241m=\u001b[39m \u001b[38;5;241m1\u001b[39m\n\u001b[1;32m      9\u001b[0m board[\u001b[38;5;241m2\u001b[39m][\u001b[38;5;241m1\u001b[39m] \u001b[38;5;241m=\u001b[39m \u001b[38;5;241m2\u001b[39m\n\u001b[1;32m     10\u001b[0m board[\u001b[38;5;241m2\u001b[39m][\u001b[38;5;241m2\u001b[39m] \u001b[38;5;241m=\u001b[39m \u001b[38;5;241m1\u001b[39m\n",
      "\u001b[0;31mNameError\u001b[0m: name 'board' is not defined"
     ]
    }
   ],
   "source": [
    "# Test your solution here\n",
    "\n",
    "'''player_1_count = count_pieces(board, player_2)\n",
    "print(player_1_count)\n",
    "print(board)\n",
    "transpose(board) '''\n",
    "\n",
    "board[2][0] = 1\n",
    "board[2][1] = 2\n",
    "board[2][2] = 1\n",
    "print(board)\n",
    "check_rows(board)\n",
    "t_board = transpose(board)\n",
    "print(t_board)\n",
    "\n",
    "check_rows(t_board)"
   ]
  },
  {
   "cell_type": "code",
   "execution_count": null,
   "metadata": {},
   "outputs": [],
   "source": [
    "winner_is_2 = [[2, 2, 0],\n",
    "\t[2, 1, 0],\n",
    "\t[2, 1, 1]]\n",
    "\n",
    "winner_is_1 = [[1, 2, 0],\n",
    "\t[2, 1, 0],\n",
    "\t[2, 1, 1]]\n",
    "\n",
    "winner_is_also_1 = [[0, 1, 0],\n",
    "\t[2, 1, 0],\n",
    "\t[2, 1, 1]]\n",
    "\n",
    "no_winner = [[1, 2, 0],\n",
    "\t[2, 1, 0],\n",
    "\t[2, 1, 2]]\n",
    "\n",
    "also_no_winner = [[1, 2, 0],\n",
    "\t[2, 1, 0],\n",
    "\t[2, 1, 0]]"
   ]
  },
  {
   "cell_type": "markdown",
   "metadata": {},
   "source": [
    "*Exercise 5:* Write a function that takes a game board, player number, and `(x,y)` coordinates and places \"X\" or \"O\" in the correct location of the game board. Make sure that you only allow filling previously empty locations. Return `True` or `False` to indicate successful placement of \"X\" or \"O\"."
   ]
  },
  {
   "cell_type": "code",
   "execution_count": null,
   "metadata": {},
   "outputs": [],
   "source": [
    "# Write you solution here"
   ]
  },
  {
   "cell_type": "code",
   "execution_count": null,
   "metadata": {},
   "outputs": [],
   "source": [
    "# Test your solution here"
   ]
  },
  {
   "cell_type": "markdown",
   "metadata": {},
   "source": [
    "*Exercise 6:* Modify Exercise 3 to show column and row labels so that players can specify location using \"A2\" or \"C1\"."
   ]
  },
  {
   "cell_type": "code",
   "execution_count": null,
   "metadata": {},
   "outputs": [],
   "source": [
    "# Write you solution here\n",
    "\n",
    "row_names=list(\"ABCDEFGHIJKLMNOPQRSTUVWXYZ\")\n",
    "row_map=dict(zip(row_names, range(size)))\n",
    "\n",
    "column_names=list(map(str,range(1, size + 1)))\n",
    "column_map=dict(zip(column_names, range(size)))\n",
    "\n",
    "\n",
    "def draw_state(matrix):\n",
    "    print(\" \", end=\" \");\n",
    "    for j in range(size):\n",
    "        print(\" \", column_names[j], end=\" \");\n",
    "    \n",
    "    for i in range(size):\n",
    "        print(\"\\n\",\" \", ((\"--- \") * (size)));\n",
    "        print(row_names[i], end=\" \");\n",
    "        print(\"| \", end= \"\");\n",
    "        for j in range(size):\n",
    "            print(\"\",space_character[matrix[i][j]], end= \"| \");\n",
    "    print(\"\\n\",\" \", ((\"--- \") * (size)));\n",
    "    return draw_state"
   ]
  },
  {
   "cell_type": "code",
   "execution_count": null,
   "metadata": {},
   "outputs": [],
   "source": [
    "# Test your solution here\n",
    "\n",
    "board[0][2] = 2\n",
    "draw_state(board);"
   ]
  },
  {
   "cell_type": "markdown",
   "metadata": {},
   "source": [
    "*Exercise 7:* Write a function that takes a board, player number, and location specified as in exercise 6 and then calls exercise 5 to correctly modify the board.  "
   ]
  },
  {
   "cell_type": "code",
   "execution_count": null,
   "metadata": {},
   "outputs": [],
   "source": [
    "# Write you solution here"
   ]
  },
  {
   "cell_type": "code",
   "execution_count": null,
   "metadata": {},
   "outputs": [],
   "source": [
    "# Test your solution here"
   ]
  },
  {
   "cell_type": "markdown",
   "metadata": {},
   "source": [
    "*Exercise 8:* Write a function is called with a board and player number, takes input from the player using python's `input`, and modifies the board using your function from exercise 7. Note that you should keep asking for input until you have gotten a valid input that results in a valid move."
   ]
  },
  {
   "cell_type": "code",
   "execution_count": null,
   "metadata": {},
   "outputs": [],
   "source": [
    "# Write you solution here"
   ]
  },
  {
   "cell_type": "code",
   "execution_count": null,
   "metadata": {},
   "outputs": [],
   "source": [
    "# Test your solution here"
   ]
  },
  {
   "cell_type": "markdown",
   "metadata": {},
   "source": [
    "*Exercise 9:* Use all of the previous exercises to implement a full tic-tac-toe game, where an appropriate board is drawn, 2 players are repeatedly asked for a location coordinates of where they wish to place a mark, and the game status is checked until a player wins or a draw occurs."
   ]
  },
  {
   "cell_type": "code",
   "execution_count": null,
   "metadata": {},
   "outputs": [],
   "source": [
    "# Write you solution here"
   ]
  },
  {
   "cell_type": "code",
   "execution_count": null,
   "metadata": {},
   "outputs": [],
   "source": [
    "# Test your solution here"
   ]
  },
  {
   "cell_type": "markdown",
   "metadata": {},
   "source": [
    "*Exercise 10:* Test that your game works for 5x5 Tic Tac Toe.  "
   ]
  },
  {
   "cell_type": "code",
   "execution_count": null,
   "metadata": {},
   "outputs": [],
   "source": [
    "# Test your solution here"
   ]
  },
  {
   "cell_type": "markdown",
   "metadata": {},
   "source": [
    "*Exercise 11:* (Advanced / Challenge) Develop a version of the game where one player is the computer. Note that you don't need to do an extensive seach for the best move. You can have the computer simply protect against loosing and otherwise try to win with straight or diagonal patterns."
   ]
  },
  {
   "cell_type": "code",
   "execution_count": null,
   "metadata": {},
   "outputs": [],
   "source": [
    "# Write you solution here"
   ]
  },
  {
   "cell_type": "code",
   "execution_count": null,
   "metadata": {},
   "outputs": [],
   "source": [
    "# Test your solution here"
   ]
  }
 ],
 "metadata": {
  "kernelspec": {
   "display_name": "Python 3 (ipykernel)",
   "language": "python",
   "name": "python3"
  },
  "language_info": {
   "codemirror_mode": {
    "name": "ipython",
    "version": 3
   },
   "file_extension": ".py",
   "mimetype": "text/x-python",
   "name": "python",
   "nbconvert_exporter": "python",
   "pygments_lexer": "ipython3",
   "version": "3.10.12"
  }
 },
 "nbformat": 4,
 "nbformat_minor": 4
}
